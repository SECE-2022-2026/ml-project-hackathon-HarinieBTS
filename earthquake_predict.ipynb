{
  "cells": [
    {
      "cell_type": "code",
      "execution_count": null,
      "metadata": {
        "id": "yF82YKP63Gle"
      },
      "outputs": [],
      "source": [
        "import zipfile\n",
        "import os"
      ]
    },
    {
      "cell_type": "markdown",
      "metadata": {
        "id": "-GJYfn275taD"
      },
      "source": [
        "Unzip the file"
      ]
    },
    {
      "cell_type": "code",
      "execution_count": null,
      "metadata": {
        "id": "gugP4hQF4nA6"
      },
      "outputs": [],
      "source": [
        "# Path to the uploaded file\n",
        "# Path to the uploaded file\n",
        "uploaded_zip_path = '/content/archive (15).zip'"
      ]
    },
    {
      "cell_type": "code",
      "execution_count": null,
      "metadata": {
        "id": "mleFEfem40Oe"
      },
      "outputs": [],
      "source": [
        "\n",
        "# Directory to extract files\n",
        "extract_dir = '/mnt/data/extracted'"
      ]
    },
    {
      "cell_type": "code",
      "execution_count": null,
      "metadata": {
        "id": "PrGBj2Jn43Wm"
      },
      "outputs": [],
      "source": [
        "# Create the directory if it doesn't exist\n",
        "os.makedirs(extract_dir, exist_ok=True)"
      ]
    },
    {
      "cell_type": "code",
      "execution_count": null,
      "metadata": {
        "colab": {
          "base_uri": "https://localhost:8080/"
        },
        "id": "C-heJKsY43Gg",
        "outputId": "4b064fd3-6689-4459-f3a9-5f28dc05a542"
      },
      "outputs": [
        {
          "name": "stdout",
          "output_type": "stream",
          "text": [
            "Extracted files: ['earthquake_1995-2023.csv', 'earthquake_data.csv']\n"
          ]
        }
      ],
      "source": [
        "\n",
        "# Extract the ZIP file\n",
        "with zipfile.ZipFile(uploaded_zip_path, 'r') as zip_ref:\n",
        "    zip_ref.extractall(extract_dir)\n",
        "\n",
        "print(f\"Extracted files: {os.listdir(extract_dir)}\")"
      ]
    },
    {
      "cell_type": "markdown",
      "metadata": {
        "id": "u9RPpjs9503E"
      },
      "source": [
        "# Load the CSV File"
      ]
    },
    {
      "cell_type": "code",
      "execution_count": null,
      "metadata": {
        "id": "Pto7CU4J5A3V"
      },
      "outputs": [],
      "source": [
        "import pandas as pd"
      ]
    },
    {
      "cell_type": "code",
      "execution_count": null,
      "metadata": {
        "colab": {
          "base_uri": "https://localhost:8080/"
        },
        "id": "LKpreUTA5B5W",
        "outputId": "a1213e0d-fdac-4df3-b2d8-b52d892e3958"
      },
      "outputs": [
        {
          "name": "stdout",
          "output_type": "stream",
          "text": [
            "Extracted CSV files: ['earthquake_1995-2023.csv', 'earthquake_data.csv']\n"
          ]
        }
      ],
      "source": [
        "\n",
        "# List extracted files to confirm names\n",
        "extracted_files = os.listdir(extract_dir)\n",
        "print(\"Extracted CSV files:\", extracted_files)"
      ]
    },
    {
      "cell_type": "code",
      "execution_count": null,
      "metadata": {
        "id": "2uLkTg9c5FWD"
      },
      "outputs": [],
      "source": [
        "# Assuming the main CSV file is known\n",
        "csv_file_path = os.path.join(extract_dir, extracted_files[0])  # Use the first file or adjust as needed\n",
        "data = pd.read_csv(csv_file_path)"
      ]
    },
    {
      "cell_type": "code",
      "execution_count": null,
      "metadata": {
        "colab": {
          "base_uri": "https://localhost:8080/"
        },
        "id": "MGrAxeJX5FSk",
        "outputId": "66b911b9-6b98-4ff2-b2e6-19873b0ca226"
      },
      "outputs": [
        {
          "name": "stdout",
          "output_type": "stream",
          "text": [
            "                                      title  magnitude         date_time  cdi  \\\n",
            "0          M 6.5 - 42 km W of Sola, Vanuatu        6.5  16-08-2023 12:47    7   \n",
            "1  M 6.5 - 43 km S of Intipucá, El Salvador        6.5  19-07-2023 00:22    8   \n",
            "2  M 6.6 - 25 km ESE of Loncopué, Argentina        6.6  17-07-2023 03:05    7   \n",
            "3     M 7.2 - 98 km S of Sand Point, Alaska        7.2  16-07-2023 06:48    6   \n",
            "4                  M 7.3 - Alaska Peninsula        7.3  16-07-2023 06:48    0   \n",
            "\n",
            "   mmi   alert  tsunami  sig net  nst      dmin    gap magType    depth  \\\n",
            "0    4   green        0  657  us  114  7.177000   25.0     mww  192.955   \n",
            "1    6  yellow        0  775  us   92  0.679000   40.0     mww   69.727   \n",
            "2    5   green        0  899  us   70  1.634000   28.0     mww  171.371   \n",
            "3    6   green        1  860  us  173  0.907000   36.0     mww   32.571   \n",
            "4    5     NaN        1  820  at   79  0.879451  172.8      Mi   21.000   \n",
            "\n",
            "   latitude  longitude               location      continent    country  \n",
            "0  -13.8814   167.1580          Sola, Vanuatu            NaN    Vanuatu  \n",
            "1   12.8140   -88.1265  Intipucá, El Salvador            NaN        NaN  \n",
            "2  -38.1911   -70.3731    Loncopué, Argentina  South America  Argentina  \n",
            "3   54.3844  -160.6990     Sand Point, Alaska            NaN        NaN  \n",
            "4   54.4900  -160.7960       Alaska Peninsula            NaN        NaN  \n"
          ]
        }
      ],
      "source": [
        "\n",
        "# Display a sample of the data\n",
        "print(data.head())"
      ]
    },
    {
      "cell_type": "markdown",
      "metadata": {
        "id": "Ln8uVLTq5MaX"
      },
      "source": [
        "**Preprocessing**"
      ]
    },
    {
      "cell_type": "code",
      "execution_count": null,
      "metadata": {
        "id": "k40UeQ2-5f3L"
      },
      "outputs": [],
      "source": [
        "# Handling missing values\n",
        "data = data.dropna()"
      ]
    },
    {
      "cell_type": "code",
      "execution_count": null,
      "metadata": {
        "id": "nMYabXAH5FQZ"
      },
      "outputs": [],
      "source": [
        "\n",
        "# Normalize numerical columns (if applicable)\n",
        "from sklearn.preprocessing import StandardScaler"
      ]
    },
    {
      "cell_type": "code",
      "execution_count": null,
      "metadata": {
        "id": "YPL1P4B45_7A"
      },
      "outputs": [],
      "source": [
        "scaler = StandardScaler()\n",
        "# Replace 'column1', 'column2' with the actual numerical column names from your data\n",
        "numerical_columns = data.select_dtypes(include=['number']).columns.tolist()\n",
        "# This line selects all numerical columns and puts them into a list.\n",
        "# If you have specific numerical columns in mind, replace the above line with:\n",
        "# numerical_columns = ['your_actual_column1', 'your_actual_column2']\n",
        "data[numerical_columns] = scaler.fit_transform(data[numerical_columns])"
      ]
    },
    {
      "cell_type": "code",
      "execution_count": null,
      "metadata": {
        "id": "LRwgTAFk5_om"
      },
      "outputs": [],
      "source": [
        "# Convert categorical data to numerical (if applicable)\n",
        "# Replace 'categorical_column' with the actual column name from your data\n",
        "categorical_columns = data.select_dtypes(include=['object']).columns.tolist() # Get a list of categorical features\n",
        "# If there is a specific categorical feature, replace the line above with:\n",
        "# categorical_columns = ['your_categorical_feature']\n",
        "# Apply get_dummies to each categorical feature.\n",
        "for column in categorical_columns:\n",
        "    data = pd.get_dummies(data, columns=[column], prefix=[column], prefix_sep='_')  # Replace with actual column names"
      ]
    },
    {
      "cell_type": "markdown",
      "metadata": {
        "id": "OjcUbdHj6Z2l"
      },
      "source": [
        "# Split Data Into Training And Testing Sets"
      ]
    },
    {
      "cell_type": "code",
      "execution_count": null,
      "metadata": {
        "id": "UJtEicNe6ZUr"
      },
      "outputs": [],
      "source": [
        "from sklearn.model_selection import train_test_split"
      ]
    },
    {
      "cell_type": "code",
      "execution_count": null,
      "metadata": {
        "id": "5c6X0iul6jlt"
      },
      "outputs": [],
      "source": [
        "# Convert categorical data to numerical (if applicable)\n",
        "# Replace 'categorical_column' with the actual column name from your data\n",
        "categorical_columns = data.select_dtypes(include=['object']).columns.tolist() # Get a list of categorical features\n",
        "# If there is a specific categorical feature, replace the line above with:\n",
        "# categorical_columns = ['your_categorical_feature']\n",
        "# Exclude 'lifeexpectancy' if it's your target variable and not categorical:\n",
        "if 'lifeexpectancy' in categorical_columns:\n",
        "    categorical_columns.remove('lifeexpectancy')\n",
        "# Apply get_dummies to each categorical feature.\n",
        "for column in categorical_columns:\n",
        "    data = pd.get_dummies(data, columns=[column], prefix=[column], prefix_sep='_')  # Replace with actual column names"
      ]
    },
    {
      "cell_type": "code",
      "execution_count": null,
      "metadata": {
        "id": "aFf8_9hI8f0_"
      },
      "outputs": [],
      "source": [
        "# Adjust this prefix to match the actual column name of your target variable\n",
        "target_column = 'lifeexpectancy'"
      ]
    },
    {
      "cell_type": "code",
      "execution_count": null,
      "metadata": {
        "colab": {
          "base_uri": "https://localhost:8080/"
        },
        "id": "5L4dVPew8l0Q",
        "outputId": "9dc410b3-a985-4ade-d0e2-5dc74b2c5179"
      },
      "outputs": [
        {
          "name": "stdout",
          "output_type": "stream",
          "text": [
            "Target column not found. Here are the available columns in your DataFrame:\n",
            "Index(['magnitude', 'cdi', 'mmi', 'tsunami', 'sig', 'nst', 'dmin', 'gap',\n",
            "       'depth', 'latitude',\n",
            "       ...\n",
            "       'country_Philippines', 'country_Russia',\n",
            "       'country_Russian Federation (the)', 'country_Solomon Islands',\n",
            "       'country_Taiwan', 'country_Tajikistan', 'country_Turkey',\n",
            "       'country_Turkiye', 'country_United States of America',\n",
            "       'country_Vanuatu'],\n",
            "      dtype='object', length=365)\n",
            "Please enter a comma-separated list of encoded target column names (e.g., lifeexpectancy_level1,lifeexpectancy_level2): sig\n"
          ]
        }
      ],
      "source": [
        "# Adjust this prefix to match the actual column name of your target variable\n",
        "target_column = 'lifeexpectancy'\n",
        "\n",
        "# Check if the target column is present in the DataFrame\n",
        "if target_column in data.columns:\n",
        "    # Get feature columns (all columns except the target)\n",
        "    X = data.drop(columns=[target_column])\n",
        "else:\n",
        "    import re\n",
        "\n",
        "    # Find all columns that might represent the encoded target variable.\n",
        "    # Assume the encoding used a prefix like 'target_column_value'\n",
        "    # Adjust the regex if your encoding uses a different pattern.\n",
        "    # For example: if the encoding generated columns like 'lifeexpectancy_level1', 'lifeexpectancy_level2', etc.,\n",
        "    # the regex would be: r'^' + target_column + '_level'\n",
        "    encoded_target_columns = [col for col in data.columns if re.match(r'^' + target_column + '_', col)]\n",
        "\n",
        "    if encoded_target_columns:\n",
        "        # If such columns are found, drop them and assign the remaining columns to X\n",
        "        X = data.drop(columns=encoded_target_columns)\n",
        "    else:\n",
        "        # If neither the original nor encoded columns are found, try to identify the encoded columns manually\n",
        "        print(\"Target column not found. Here are the available columns in your DataFrame:\")\n",
        "        print(data.columns)\n",
        "\n",
        "        # Ask the user to specify the encoded target columns\n",
        "        encoded_target_columns = input(\"Please enter a comma-separated list of encoded target column names (e.g., lifeexpectancy_level1,lifeexpectancy_level2): \").split(',')\n",
        "\n",
        "        # If the user provides encoded target columns, drop them and assign the remaining columns to X\n",
        "        if encoded_target_columns:\n",
        "            X = data.drop(columns=encoded_target_columns)\n",
        "        else:\n",
        "            raise KeyError(f\"Target column '{target_column}' or its encoded versions not found in the DataFrame\")"
      ]
    },
    {
      "cell_type": "code",
      "execution_count": null,
      "metadata": {
        "colab": {
          "base_uri": "https://localhost:8080/"
        },
        "id": "CB3CKIJB6_Hc",
        "outputId": "1b98dfdb-7306-405c-80b1-3531247746bf"
      },
      "outputs": [
        {
          "name": "stdout",
          "output_type": "stream",
          "text": [
            "Target column not found. Here are the available columns in your DataFrame:\n",
            "Index(['magnitude', 'cdi', 'mmi', 'tsunami', 'sig', 'nst', 'dmin', 'gap',\n",
            "       'depth', 'latitude',\n",
            "       ...\n",
            "       'country_Philippines', 'country_Russia',\n",
            "       'country_Russian Federation (the)', 'country_Solomon Islands',\n",
            "       'country_Taiwan', 'country_Tajikistan', 'country_Turkey',\n",
            "       'country_Turkiye', 'country_United States of America',\n",
            "       'country_Vanuatu'],\n",
            "      dtype='object', length=365)\n",
            "Please enter a comma-separated list of encoded target column names (e.g., lifeexpectancy_level1,lifeexpectancy_level2): sig\n"
          ]
        }
      ],
      "source": [
        "# Adjust this prefix to match the actual column name of your target variable\n",
        "target_column = 'lifeexpectancy'\n",
        "\n",
        "# Check if the target column is present in the DataFrame\n",
        "if target_column in data.columns:\n",
        "    # Get feature columns (all columns except the target)\n",
        "    X = data.drop(columns=[target_column])\n",
        "    # Get the target variable\n",
        "    y = data[target_column]\n",
        "else:\n",
        "    import re\n",
        "\n",
        "    encoded_target_columns = [col for col in data.columns if re.match(r'^' + target_column + '_', col)]\n",
        "\n",
        "    if encoded_target_columns:\n",
        "        # If such columns are found, drop them and assign the remaining columns to X\n",
        "        X = data.drop(columns=encoded_target_columns)\n",
        "        # Assuming the first encoded column represents the target\n",
        "        y = data[encoded_target_columns[0]]  # You might need to adjust this based on your encoding.\n",
        "    else:\n",
        "        # If neither the original nor encoded columns are found, try to identify the encoded columns manually\n",
        "        print(\"Target column not found. Here are the available columns in your DataFrame:\")\n",
        "        print(data.columns)\n",
        "\n",
        "        # Ask the user to specify the encoded target columns\n",
        "        encoded_target_columns = input(\"Please enter a comma-separated list of encoded target column names (e.g., lifeexpectancy_level1,lifeexpectancy_level2): \").split(',') # This line was incomplete\n",
        "\n",
        "        # If the user provides encoded target columns, drop them and assign the remaining columns to X\n",
        "        if encoded_target_columns:\n",
        "            X = data.drop(columns=encoded_target_columns)\n",
        "        else:\n",
        "            raise KeyError(f\"Target column '{target_column}' or its encoded versions not found in the DataFrame\")"
      ]
    },
    {
      "cell_type": "code",
      "execution_count": null,
      "metadata": {
        "colab": {
          "base_uri": "https://localhost:8080/"
        },
        "id": "BJJBN8vB6-4_",
        "outputId": "a9e10d01-658c-4b88-9541-fc4a3c787bc1"
      },
      "outputs": [
        {
          "name": "stdout",
          "output_type": "stream",
          "text": [
            "Target column not found. Here are the available columns in your DataFrame:\n",
            "Index(['magnitude', 'cdi', 'mmi', 'tsunami', 'sig', 'nst', 'dmin', 'gap',\n",
            "       'depth', 'latitude',\n",
            "       ...\n",
            "       'country_Philippines', 'country_Russia',\n",
            "       'country_Russian Federation (the)', 'country_Solomon Islands',\n",
            "       'country_Taiwan', 'country_Tajikistan', 'country_Turkey',\n",
            "       'country_Turkiye', 'country_United States of America',\n",
            "       'country_Vanuatu'],\n",
            "      dtype='object', length=365)\n",
            "Please enter a comma-separated list of encoded target column names (e.g., lifeexpectancy_level1,lifeexpectancy_level2): gap\n",
            "Training set size: (84, 364)\n",
            "Testing set size: (22, 364)\n"
          ]
        }
      ],
      "source": [
        "# Import necessary libraries\n",
        "import pandas as pd\n",
        "from sklearn.model_selection import train_test_split\n",
        "\n",
        "# Adjust this prefix to match the actual column name of your target variable\n",
        "target_column = 'lifeexpectancy'\n",
        "\n",
        "# Check if the target column is present in the DataFrame\n",
        "if target_column in data.columns:\n",
        "    # Get feature columns (all columns except the target)\n",
        "    X = data.drop(columns=[target_column])\n",
        "    # Get the target variable\n",
        "    y = data[target_column]\n",
        "else:\n",
        "    import re\n",
        "\n",
        "    encoded_target_columns = [col for col in data.columns if re.match(r'^' + target_column + '_', col)]\n",
        "\n",
        "    if encoded_target_columns:\n",
        "        # If such columns are found, drop them and assign the remaining columns to X\n",
        "        X = data.drop(columns=encoded_target_columns)\n",
        "        # Assuming the first encoded column represents the target\n",
        "        y = data[encoded_target_columns[0]]  # You might need to adjust this based on your encoding.\n",
        "    else:\n",
        "        # If neither the original nor encoded columns are found, try to identify the encoded columns manually\n",
        "        print(\"Target column not found. Here are the available columns in your DataFrame:\")\n",
        "        print(data.columns)\n",
        "\n",
        "        # Ask the user to specify the encoded target columns\n",
        "        encoded_target_columns = input(\"Please enter a comma-separated list of encoded target column names (e.g., lifeexpectancy_level1,lifeexpectancy_level2): \").split(',')\n",
        "\n",
        "        # If the user provides encoded target columns, drop them and assign the remaining columns to X\n",
        "        if encoded_target_columns:\n",
        "            X = data.drop(columns=encoded_target_columns)\n",
        "            # Assuming the first encoded column represents the target after user input.\n",
        "            y = data[encoded_target_columns[0]] # Define y here after user provides input\n",
        "        else:\n",
        "            raise KeyError(f\"Target column '{target_column}' or its encoded versions not found in the DataFrame\")\n",
        "\n",
        "# Split the data into training and testing sets\n",
        "X_train, X_test, y_train, y_test = train_test_split(X, y, test_size=0.2, random_state=42)  # Adjust test_size and random_state as needed\n",
        "\n",
        "# Now you can print the shapes:\n",
        "print(f\"Training set size: {X_train.shape}\")\n",
        "print(f\"Testing set size: {X_test.shape}\")"
      ]
    },
    {
      "cell_type": "markdown",
      "metadata": {
        "id": "-GI7bVrn-AA9"
      },
      "source": [
        "## Build and Train a Model"
      ]
    },
    {
      "cell_type": "code",
      "execution_count": null,
      "metadata": {
        "id": "H2BqNcci-GNr"
      },
      "outputs": [],
      "source": [
        "import tensorflow as tf\n",
        "from tensorflow.keras.models import Sequential\n",
        "from tensorflow.keras.layers import Dense, Dropout"
      ]
    },
    {
      "cell_type": "code",
      "execution_count": null,
      "metadata": {
        "colab": {
          "base_uri": "https://localhost:8080/"
        },
        "id": "oJlsPEue-g8r",
        "outputId": "a47551e1-99cd-4207-a2d1-6cc202d6a76e"
      },
      "outputs": [
        {
          "name": "stderr",
          "output_type": "stream",
          "text": [
            "/usr/local/lib/python3.10/dist-packages/keras/src/layers/core/dense.py:87: UserWarning: Do not pass an `input_shape`/`input_dim` argument to a layer. When using Sequential models, prefer using an `Input(shape)` object as the first layer in the model instead.\n",
            "  super().__init__(activity_regularizer=activity_regularizer, **kwargs)\n"
          ]
        }
      ],
      "source": [
        "# Define the model\n",
        "model = Sequential([\n",
        "    Dense(64, activation='relu', input_shape=(X_train.shape[1],)),\n",
        "    Dropout(0.3),\n",
        "    Dense(32, activation='relu'),\n",
        "    Dense(1, activation='sigmoid')  # Use 'softmax' for multi-class classification\n",
        "])"
      ]
    },
    {
      "cell_type": "code",
      "execution_count": null,
      "metadata": {
        "id": "vsYUn3_N-jkI"
      },
      "outputs": [],
      "source": [
        "# Compile the model\n",
        "model.compile(optimizer='adam', loss='binary_crossentropy', metrics=['accuracy'])"
      ]
    },
    {
      "cell_type": "code",
      "execution_count": null,
      "metadata": {
        "colab": {
          "base_uri": "https://localhost:8080/"
        },
        "id": "qSHN3x9a-mlX",
        "outputId": "ccea8cb5-1d77-4977-efae-f0a93027cb97"
      },
      "outputs": [
        {
          "name": "stdout",
          "output_type": "stream",
          "text": [
            "Epoch 1/20\n",
            "\u001b[1m3/3\u001b[0m \u001b[32m━━━━━━━━━━━━━━━━━━━━\u001b[0m\u001b[37m\u001b[0m \u001b[1m2s\u001b[0m 99ms/step - accuracy: 0.0000e+00 - loss: 0.6278 - val_accuracy: 0.0000e+00 - val_loss: 0.6153\n",
            "Epoch 2/20\n",
            "\u001b[1m3/3\u001b[0m \u001b[32m━━━━━━━━━━━━━━━━━━━━\u001b[0m\u001b[37m\u001b[0m \u001b[1m0s\u001b[0m 13ms/step - accuracy: 0.0000e+00 - loss: 0.5831 - val_accuracy: 0.0000e+00 - val_loss: 0.5598\n",
            "Epoch 3/20\n",
            "\u001b[1m3/3\u001b[0m \u001b[32m━━━━━━━━━━━━━━━━━━━━\u001b[0m\u001b[37m\u001b[0m \u001b[1m0s\u001b[0m 13ms/step - accuracy: 0.0000e+00 - loss: 0.4890 - val_accuracy: 0.0000e+00 - val_loss: 0.5044\n",
            "Epoch 4/20\n",
            "\u001b[1m3/3\u001b[0m \u001b[32m━━━━━━━━━━━━━━━━━━━━\u001b[0m\u001b[37m\u001b[0m \u001b[1m0s\u001b[0m 14ms/step - accuracy: 0.0000e+00 - loss: 0.4264 - val_accuracy: 0.0000e+00 - val_loss: 0.4531\n",
            "Epoch 5/20\n",
            "\u001b[1m3/3\u001b[0m \u001b[32m━━━━━━━━━━━━━━━━━━━━\u001b[0m\u001b[37m\u001b[0m \u001b[1m0s\u001b[0m 13ms/step - accuracy: 0.0000e+00 - loss: 0.3566 - val_accuracy: 0.0000e+00 - val_loss: 0.3987\n",
            "Epoch 6/20\n",
            "\u001b[1m3/3\u001b[0m \u001b[32m━━━━━━━━━━━━━━━━━━━━\u001b[0m\u001b[37m\u001b[0m \u001b[1m0s\u001b[0m 16ms/step - accuracy: 0.0000e+00 - loss: 0.3157 - val_accuracy: 0.0000e+00 - val_loss: 0.3430\n",
            "Epoch 7/20\n",
            "\u001b[1m3/3\u001b[0m \u001b[32m━━━━━━━━━━━━━━━━━━━━\u001b[0m\u001b[37m\u001b[0m \u001b[1m0s\u001b[0m 14ms/step - accuracy: 0.0000e+00 - loss: 0.2638 - val_accuracy: 0.0000e+00 - val_loss: 0.2878\n",
            "Epoch 8/20\n",
            "\u001b[1m3/3\u001b[0m \u001b[32m━━━━━━━━━━━━━━━━━━━━\u001b[0m\u001b[37m\u001b[0m \u001b[1m0s\u001b[0m 14ms/step - accuracy: 0.0000e+00 - loss: 0.2034 - val_accuracy: 0.0000e+00 - val_loss: 0.2314\n",
            "Epoch 9/20\n",
            "\u001b[1m3/3\u001b[0m \u001b[32m━━━━━━━━━━━━━━━━━━━━\u001b[0m\u001b[37m\u001b[0m \u001b[1m0s\u001b[0m 13ms/step - accuracy: 0.0000e+00 - loss: 0.1616 - val_accuracy: 0.0000e+00 - val_loss: 0.1841\n",
            "Epoch 10/20\n",
            "\u001b[1m3/3\u001b[0m \u001b[32m━━━━━━━━━━━━━━━━━━━━\u001b[0m\u001b[37m\u001b[0m \u001b[1m0s\u001b[0m 14ms/step - accuracy: 0.0000e+00 - loss: 0.1273 - val_accuracy: 0.0000e+00 - val_loss: 0.1404\n",
            "Epoch 11/20\n",
            "\u001b[1m3/3\u001b[0m \u001b[32m━━━━━━━━━━━━━━━━━━━━\u001b[0m\u001b[37m\u001b[0m \u001b[1m0s\u001b[0m 14ms/step - accuracy: 0.0000e+00 - loss: 0.0323 - val_accuracy: 0.0000e+00 - val_loss: 0.0931\n",
            "Epoch 12/20\n",
            "\u001b[1m3/3\u001b[0m \u001b[32m━━━━━━━━━━━━━━━━━━━━\u001b[0m\u001b[37m\u001b[0m \u001b[1m0s\u001b[0m 17ms/step - accuracy: 0.0000e+00 - loss: -0.0576 - val_accuracy: 0.0000e+00 - val_loss: 0.0436\n",
            "Epoch 13/20\n",
            "\u001b[1m3/3\u001b[0m \u001b[32m━━━━━━━━━━━━━━━━━━━━\u001b[0m\u001b[37m\u001b[0m \u001b[1m0s\u001b[0m 16ms/step - accuracy: 0.0000e+00 - loss: -0.1003 - val_accuracy: 0.0000e+00 - val_loss: -0.0054\n",
            "Epoch 14/20\n",
            "\u001b[1m3/3\u001b[0m \u001b[32m━━━━━━━━━━━━━━━━━━━━\u001b[0m\u001b[37m\u001b[0m \u001b[1m0s\u001b[0m 15ms/step - accuracy: 0.0000e+00 - loss: -0.1117 - val_accuracy: 0.0000e+00 - val_loss: -0.0524\n",
            "Epoch 15/20\n",
            "\u001b[1m3/3\u001b[0m \u001b[32m━━━━━━━━━━━━━━━━━━━━\u001b[0m\u001b[37m\u001b[0m \u001b[1m0s\u001b[0m 14ms/step - accuracy: 0.0000e+00 - loss: -0.1668 - val_accuracy: 0.0000e+00 - val_loss: -0.0997\n",
            "Epoch 16/20\n",
            "\u001b[1m3/3\u001b[0m \u001b[32m━━━━━━━━━━━━━━━━━━━━\u001b[0m\u001b[37m\u001b[0m \u001b[1m0s\u001b[0m 13ms/step - accuracy: 0.0000e+00 - loss: -0.2547 - val_accuracy: 0.0000e+00 - val_loss: -0.1497\n",
            "Epoch 17/20\n",
            "\u001b[1m3/3\u001b[0m \u001b[32m━━━━━━━━━━━━━━━━━━━━\u001b[0m\u001b[37m\u001b[0m \u001b[1m0s\u001b[0m 14ms/step - accuracy: 0.0000e+00 - loss: -0.3652 - val_accuracy: 0.0000e+00 - val_loss: -0.2003\n",
            "Epoch 18/20\n",
            "\u001b[1m3/3\u001b[0m \u001b[32m━━━━━━━━━━━━━━━━━━━━\u001b[0m\u001b[37m\u001b[0m \u001b[1m0s\u001b[0m 14ms/step - accuracy: 0.0000e+00 - loss: -0.4409 - val_accuracy: 0.0000e+00 - val_loss: -0.2492\n",
            "Epoch 19/20\n",
            "\u001b[1m3/3\u001b[0m \u001b[32m━━━━━━━━━━━━━━━━━━━━\u001b[0m\u001b[37m\u001b[0m \u001b[1m0s\u001b[0m 13ms/step - accuracy: 0.0000e+00 - loss: -0.4586 - val_accuracy: 0.0000e+00 - val_loss: -0.2971\n",
            "Epoch 20/20\n",
            "\u001b[1m3/3\u001b[0m \u001b[32m━━━━━━━━━━━━━━━━━━━━\u001b[0m\u001b[37m\u001b[0m \u001b[1m0s\u001b[0m 13ms/step - accuracy: 0.0000e+00 - loss: -0.5626 - val_accuracy: 0.0000e+00 - val_loss: -0.3489\n"
          ]
        }
      ],
      "source": [
        "\n",
        "# Train the model\n",
        "history = model.fit(X_train, y_train, epochs=20, batch_size=32, validation_split=0.2)"
      ]
    },
    {
      "cell_type": "markdown",
      "metadata": {
        "id": "SxCM9nqG-q5H"
      },
      "source": [
        "## Evaluate the Model"
      ]
    },
    {
      "cell_type": "code",
      "execution_count": null,
      "metadata": {
        "colab": {
          "base_uri": "https://localhost:8080/"
        },
        "id": "l6-0U01D-qiU",
        "outputId": "0fdf4b8b-195f-4a00-8e63-03c4fd5c0ef7"
      },
      "outputs": [
        {
          "name": "stdout",
          "output_type": "stream",
          "text": [
            "\u001b[1m1/1\u001b[0m \u001b[32m━━━━━━━━━━━━━━━━━━━━\u001b[0m\u001b[37m\u001b[0m \u001b[1m0s\u001b[0m 38ms/step - accuracy: 0.0000e+00 - loss: 0.1693\n",
            "Test Accuracy: 0.00%\n"
          ]
        }
      ],
      "source": [
        "# Evaluate on test data\n",
        "test_loss, test_accuracy = model.evaluate(X_test, y_test)\n",
        "print(f\"Test Accuracy: {test_accuracy * 100:.2f}%\")\n"
      ]
    },
    {
      "cell_type": "markdown",
      "metadata": {
        "id": "eLfnkpYY-wmh"
      },
      "source": [
        "Save and Load the Model"
      ]
    },
    {
      "cell_type": "code",
      "execution_count": null,
      "metadata": {
        "colab": {
          "base_uri": "https://localhost:8080/"
        },
        "id": "J33J79Ht-qN0",
        "outputId": "a2cf34e7-f62d-49d6-923e-987116224e82"
      },
      "outputs": [
        {
          "name": "stderr",
          "output_type": "stream",
          "text": [
            "WARNING:absl:You are saving your model as an HDF5 file via `model.save()` or `keras.saving.save_model(model)`. This file format is considered legacy. We recommend using instead the native Keras format, e.g. `model.save('my_model.keras')` or `keras.saving.save_model(model, 'my_model.keras')`. \n"
          ]
        }
      ],
      "source": [
        "# Save the model\n",
        "model.save('/mnt/data/my_model.h5')"
      ]
    },
    {
      "cell_type": "code",
      "execution_count": null,
      "metadata": {
        "colab": {
          "base_uri": "https://localhost:8080/"
        },
        "id": "okvg2Gju-5It",
        "outputId": "c2817e73-756c-4777-9386-2aaee5d70ba2"
      },
      "outputs": [
        {
          "name": "stderr",
          "output_type": "stream",
          "text": [
            "WARNING:absl:Compiled the loaded model, but the compiled metrics have yet to be built. `model.compile_metrics` will be empty until you train or evaluate the model.\n"
          ]
        }
      ],
      "source": [
        "# Load the model later\n",
        "loaded_model = tf.keras.models.load_model('/mnt/data/my_model.h5')"
      ]
    },
    {
      "cell_type": "markdown",
      "metadata": {
        "id": "PIj6NvsP-84X"
      },
      "source": [
        "**# Visualize**"
      ]
    },
    {
      "cell_type": "code",
      "execution_count": null,
      "metadata": {
        "id": "D-P8mTXx_C4Y"
      },
      "outputs": [],
      "source": [
        "import matplotlib.pyplot as plt"
      ]
    },
    {
      "cell_type": "code",
      "execution_count": null,
      "metadata": {
        "colab": {
          "base_uri": "https://localhost:8080/",
          "height": 472
        },
        "id": "p7bCmwgg_IHe",
        "outputId": "93d37cbd-ce18-4a58-eb31-e8b52c73e180"
      },
      "outputs": [
        {
          "data": {
            "image/png": "[encoded data removed]",
            "text/plain": [
              "<Figure size 640x480 with 1 Axes>"
            ]
          },
          "metadata": {},
          "output_type": "display_data"
        }
      ],
      "source": [
        "# Plot training and validation accuracy\n",
        "plt.plot(history.history['accuracy'], label='Training Accuracy')\n",
        "plt.plot(history.history['val_accuracy'], label='Validation Accuracy')\n",
        "plt.legend()\n",
        "plt.xlabel('Epochs')\n",
        "plt.ylabel('Accuracy')\n",
        "plt.title('Training and Validation Accuracy')\n",
        "plt.show()"
      ]
    },
    {
      "cell_type": "code",
      "execution_count": null,
      "metadata": {
        "id": "OPdmn8kM_nd1"
      },
      "outputs": [],
      "source": [
        "import matplotlib.pyplot as plt\n",
        "import seaborn as sns\n"
      ]
    },
    {
      "cell_type": "markdown",
      "metadata": {
        "id": "prjKXlSW_ooM"
      },
      "source": [
        "# Histogram"
      ]
    },
    {
      "cell_type": "code",
      "execution_count": null,
      "metadata": {
        "colab": {
          "base_uri": "https://localhost:8080/",
          "height": 519
        },
        "id": "n3CG-_Kx_sCA",
        "outputId": "89de8eeb-e8f3-4983-bdb0-2c13dc377c58"
      },
      "outputs": [
        {
          "data": {
            "image/png": "[encoded data removed]",
            "text/plain": [
              "<Figure size 800x600 with 1 Axes>"
            ]
          },
          "metadata": {},
          "output_type": "display_data"
        }
      ],
      "source": [
        "import matplotlib.pyplot as plt\n",
        "import seaborn as sns\n",
        "\n",
        "# Replace 'column_name' with the actual name of the column you want to plot\n",
        "column_to_plot = 'magnitude' # Example: Assuming 'magnitude' is a column in your DataFrame\n",
        "\n",
        "plt.figure(figsize=(8, 6))\n",
        "plt.hist(data[column_to_plot], bins=30, color='blue', edgecolor='black')\n",
        "plt.title(f'Distribution of {column_to_plot}')  # Dynamically set title\n",
        "plt.xlabel(column_to_plot)  # Dynamically set x-axis label\n",
        "plt.ylabel('Frequency')\n",
        "plt.show()"
      ]
    },
    {
      "cell_type": "markdown",
      "metadata": {
        "id": "a_b07aIV_3En"
      },
      "source": [
        "# Bar chart"
      ]
    },
    {
      "cell_type": "code",
      "execution_count": null,
      "metadata": {
        "colab": {
          "base_uri": "https://localhost:8080/",
          "height": 72
        },
        "id": "YkLFs46L_5yL",
        "outputId": "0103c646-40bd-42ab-b76a-c44cbb117e8d"
      },
      "outputs": [
        {
          "name": "stdout",
          "output_type": "stream",
          "text": [
            "Column 'status' not found in DataFrame. Please check the column name or your data.\n"
          ]
        },
        {
          "data": {
            "text/plain": [
              "<Figure size 800x600 with 0 Axes>"
            ]
          },
          "metadata": {},
          "output_type": "display_data"
        }
      ],
      "source": [
        "import matplotlib.pyplot as plt\n",
        "\n",
        "plt.figure(figsize=(8, 6))\n",
        "\n",
        "# Check if 'status' column exists, if not, handle the error or use a different column\n",
        "if 'country' in data.columns:\n",
        "    data['country'].value_counts().plot(kind='bar', color='orange')\n",
        "    plt.title('Bar Chart of Categorical Column')\n",
        "    plt.xlabel('Categories')\n",
        "    plt.ylabel('Count')\n",
        "    plt.show()\n",
        "else:\n",
        "    print(\"Column 'status' not found in DataFrame. Please check the column name or your data.\")\n",
        "    # Optionally, you can plot a different column here:\n",
        "    # data['another_column'].value_counts().plot(kind='bar', color='orange')\n",
        "    # ..."
      ]
    },
    {
      "cell_type": "markdown",
      "metadata": {
        "id": "McEvoeHT__kV"
      },
      "source": [
        "# Line Plot"
      ]
    },
    {
      "cell_type": "code",
      "execution_count": null,
      "metadata": {
        "colab": {
          "base_uri": "https://localhost:8080/",
          "height": 69
        },
        "id": "Eg6ck-O6ACSi",
        "outputId": "0435fc1b-7795-4195-8713-b930dc520616"
      },
      "outputs": [
        {
          "name": "stdout",
          "output_type": "stream",
          "text": [
            "Error: The following columns are missing in the DataFrame: ['time', 'mag']\n",
            "Please check your data or update the column names in the code.\n"
          ]
        },
        {
          "data": {
            "text/plain": [
              "<Figure size 1000x600 with 0 Axes>"
            ]
          },
          "metadata": {},
          "output_type": "display_data"
        }
      ],
      "source": [
        "import matplotlib.pyplot as plt\n",
        "\n",
        "plt.figure(figsize=(10, 6))\n",
        "# Check if 'time' and 'mag' columns exist in the DataFrame\n",
        "if 'time' in data.columns and 'mag' in data.columns:\n",
        "    # If both columns exist, plot the data\n",
        "    plt.plot(data['time'], data['mag'], marker='o', color='green')\n",
        "    plt.title('Line Plot of Time vs Value')\n",
        "    plt.xlabel('Time')\n",
        "    plt.ylabel('Value')\n",
        "    plt.grid()\n",
        "    plt.show()\n",
        "else:\n",
        "    # If either column is missing, print an error message\n",
        "    missing_columns = [col for col in ['time', 'mag'] if col not in data.columns]\n",
        "    print(f\"Error: The following columns are missing in the DataFrame: {missing_columns}\")\n",
        "    print(\"Please check your data or update the column names in the code.\")"
      ]
    },
    {
      "cell_type": "markdown",
      "metadata": {
        "id": "Dq3Vr8ZzAMmf"
      },
      "source": [
        "# Seaborn Visualizations"
      ]
    },
    {
      "cell_type": "markdown",
      "metadata": {
        "id": "0LwCr1TBAQEC"
      },
      "source": [
        "# Heatmap"
      ]
    },
    {
      "cell_type": "code",
      "execution_count": null,
      "metadata": {
        "colab": {
          "background_save": true,
          "base_uri": "https://localhost:8080/",
          "height": 391
        },
        "id": "XY8DqtMiBkXB",
        "outputId": "693e71ba-2f76-49d1-b5f2-442a03549545"
      },
      "outputs": [
        {
          "ename": "NameError",
          "evalue": "name 'plt' is not defined",
          "output_type": "error",
          "traceback": [
            "\u001b[0;31m---------------------------------------------------------------------------\u001b[0m",
            "\u001b[0;31mNameError\u001b[0m                                 Traceback (most recent call last)",
            "\u001b[0;32m<ipython-input-1-23ecf986d7e8>\u001b[0m in \u001b[0;36m<cell line: 1>\u001b[0;34m()\u001b[0m\n\u001b[0;32m----> 1\u001b[0;31m \u001b[0mplt\u001b[0m\u001b[0;34m.\u001b[0m\u001b[0mfigure\u001b[0m\u001b[0;34m(\u001b[0m\u001b[0mfigsize\u001b[0m\u001b[0;34m=\u001b[0m\u001b[0;34m(\u001b[0m\u001b[0;36m10\u001b[0m\u001b[0;34m,\u001b[0m \u001b[0;36m8\u001b[0m\u001b[0;34m)\u001b[0m\u001b[0;34m)\u001b[0m\u001b[0;34m\u001b[0m\u001b[0;34m\u001b[0m\u001b[0m\n\u001b[0m\u001b[1;32m      2\u001b[0m \u001b[0mcorrelation_matrix\u001b[0m \u001b[0;34m=\u001b[0m \u001b[0mdata\u001b[0m\u001b[0;34m.\u001b[0m\u001b[0mcorr\u001b[0m\u001b[0;34m(\u001b[0m\u001b[0;34m)\u001b[0m\u001b[0;34m\u001b[0m\u001b[0;34m\u001b[0m\u001b[0m\n\u001b[1;32m      3\u001b[0m \u001b[0msns\u001b[0m\u001b[0;34m.\u001b[0m\u001b[0mheatmap\u001b[0m\u001b[0;34m(\u001b[0m\u001b[0mcorrelation_matrix\u001b[0m\u001b[0;34m,\u001b[0m \u001b[0mannot\u001b[0m\u001b[0;34m=\u001b[0m\u001b[0;32mTrue\u001b[0m\u001b[0;34m,\u001b[0m \u001b[0mcmap\u001b[0m\u001b[0;34m=\u001b[0m\u001b[0;34m'coolwarm'\u001b[0m\u001b[0;34m,\u001b[0m \u001b[0mfmt\u001b[0m\u001b[0;34m=\u001b[0m\u001b[0;34m'.2f'\u001b[0m\u001b[0;34m,\u001b[0m \u001b[0mlinewidths\u001b[0m\u001b[0;34m=\u001b[0m\u001b[0;36m0.5\u001b[0m\u001b[0;34m)\u001b[0m\u001b[0;34m\u001b[0m\u001b[0;34m\u001b[0m\u001b[0m\n\u001b[1;32m      4\u001b[0m \u001b[0mplt\u001b[0m\u001b[0;34m.\u001b[0m\u001b[0mtitle\u001b[0m\u001b[0;34m(\u001b[0m\u001b[0;34m'Correlation Matrix'\u001b[0m\u001b[0;34m)\u001b[0m\u001b[0;34m\u001b[0m\u001b[0;34m\u001b[0m\u001b[0m\n\u001b[1;32m      5\u001b[0m \u001b[0mplt\u001b[0m\u001b[0;34m.\u001b[0m\u001b[0mshow\u001b[0m\u001b[0;34m(\u001b[0m\u001b[0;34m)\u001b[0m\u001b[0;34m\u001b[0m\u001b[0;34m\u001b[0m\u001b[0m\n",
            "\u001b[0;31mNameError\u001b[0m: name 'plt' is not defined"
          ]
        }
      ],
      "source": [
        "plt.figure(figsize=(10, 8))\n",
        "correlation_matrix = data.corr()\n",
        "sns.heatmap(correlation_matrix, annot=True, cmap='coolwarm', fmt='.2f', linewidths=0.5)\n",
        "plt.title('Correlation Matrix')\n",
        "plt.show()"
      ]
    },
    {
      "cell_type": "markdown",
      "metadata": {
        "id": "OeqhKbi4BLnj"
      },
      "source": [
        "# Pair Plot"
      ]
    },
    {
      "cell_type": "code",
      "execution_count": null,
      "metadata": {
        "id": "i-EHUGWMBOy8"
      },
      "outputs": [],
      "source": [
        "sns.pairplot(data, hue='categorical_column', diag_kind='kde')\n",
        "plt.show()\n"
      ]
    },
    {
      "cell_type": "markdown",
      "metadata": {
        "id": "zRjckADDBUAv"
      },
      "source": [
        "# Box Plot"
      ]
    },
    {
      "cell_type": "code",
      "execution_count": null,
      "metadata": {
        "id": "boAisxuyBV1k"
      },
      "outputs": [],
      "source": [
        "plt.figure(figsize=(8, 6))\n",
        "sns.boxplot(x='categorical_column', y='numerical_column', data=data, palette='Set2')\n",
        "plt.title('Box Plot of Numerical Column by Category')\n",
        "plt.show()\n"
      ]
    },
    {
      "cell_type": "markdown",
      "metadata": {
        "id": "w6yDHjTkBZhl"
      },
      "source": [
        "# Scatter Plot"
      ]
    },
    {
      "cell_type": "code",
      "execution_count": null,
      "metadata": {
        "id": "0_pzHj5zBbi1"
      },
      "outputs": [],
      "source": [
        "plt.figure(figsize=(8, 6))\n",
        "sns.scatterplot(x='numerical_column1', y='numerical_column2', data=data, hue='categorical_column', palette='cool')\n",
        "plt.title('Scatter Plot of Two Numerical Columns')\n",
        "plt.xlabel('Numerical Column 1')\n",
        "plt.ylabel('Numerical Column 2')\n",
        "plt.show()\n"
      ]
    }
  ],
  "metadata": {
    "colab": {
      "provenance": []
    },
    "kernelspec": {
      "display_name": "Python 3",
      "name": "python3"
    },
    "language_info": {
      "name": "python"
    }
  },
  "nbformat": 4,
  "nbformat_minor": 0
}